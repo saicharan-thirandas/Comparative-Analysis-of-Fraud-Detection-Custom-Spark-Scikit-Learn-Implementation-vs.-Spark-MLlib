{
  "cells": [
    {
      "cell_type": "markdown",
      "source": [
        "Install Spark libraries"
      ],
      "metadata": {
        "id": "hHbjZQP3Pnhf"
      },
      "id": "hHbjZQP3Pnhf"
    },
    {
      "cell_type": "code",
      "source": [
        "!pip install pyspark"
      ],
      "metadata": {
        "colab": {
          "base_uri": "https://localhost:8080/"
        },
        "id": "OmEpdxR_O9w2",
        "outputId": "d784bb74-5264-4c59-d3d4-67c51d8d6d26"
      },
      "id": "OmEpdxR_O9w2",
      "execution_count": 2,
      "outputs": [
        {
          "output_type": "stream",
          "name": "stdout",
          "text": [
            "Looking in indexes: https://pypi.org/simple, https://us-python.pkg.dev/colab-wheels/public/simple/\n",
            "Collecting pyspark\n",
            "  Downloading pyspark-3.4.0.tar.gz (310.8 MB)\n",
            "\u001b[2K     \u001b[90m━━━━━━━━━━━━━━━━━━━━━━━━━━━━━━━━━━━━━━━\u001b[0m \u001b[32m310.8/310.8 MB\u001b[0m \u001b[31m1.3 MB/s\u001b[0m eta \u001b[36m0:00:00\u001b[0m\n",
            "\u001b[?25h  Preparing metadata (setup.py) ... \u001b[?25l\u001b[?25hdone\n",
            "Requirement already satisfied: py4j==0.10.9.7 in /usr/local/lib/python3.10/dist-packages (from pyspark) (0.10.9.7)\n",
            "Building wheels for collected packages: pyspark\n",
            "  Building wheel for pyspark (setup.py) ... \u001b[?25l\u001b[?25hdone\n",
            "  Created wheel for pyspark: filename=pyspark-3.4.0-py2.py3-none-any.whl size=311317130 sha256=bf7e554c8d5c415f16d7156d5c198371cf9e93bd1369d28f5175bc5ed78fecf7\n",
            "  Stored in directory: /root/.cache/pip/wheels/7b/1b/4b/3363a1d04368e7ff0d408e57ff57966fcdf00583774e761327\n",
            "Successfully built pyspark\n",
            "Installing collected packages: pyspark\n",
            "Successfully installed pyspark-3.4.0\n"
          ]
        }
      ]
    },
    {
      "cell_type": "code",
      "source": [
        "from google.colab import drive\n",
        "drive.mount('/content/drive')"
      ],
      "metadata": {
        "colab": {
          "base_uri": "https://localhost:8080/"
        },
        "id": "F_07wGvVPGId",
        "outputId": "58fcf0a7-1d48-47ac-f191-ea01e65d000b"
      },
      "id": "F_07wGvVPGId",
      "execution_count": 5,
      "outputs": [
        {
          "output_type": "stream",
          "name": "stdout",
          "text": [
            "Mounted at /content/drive\n"
          ]
        }
      ]
    },
    {
      "cell_type": "markdown",
      "source": [
        "Import spark libraries"
      ],
      "metadata": {
        "id": "Q_UxniLsPmFn"
      },
      "id": "Q_UxniLsPmFn"
    },
    {
      "cell_type": "code",
      "source": [
        "from pyspark.sql import SparkSession\n",
        "\n",
        "spark=SparkSession.builder.getOrCreate()\n",
        "\n",
        "df=spark.read.csv('/content/drive/MyDrive/course_project/fraud_dataset.csv', inferSchema=True, header=True)\n"
      ],
      "metadata": {
        "id": "ID2grE0pO_4l"
      },
      "id": "ID2grE0pO_4l",
      "execution_count": null,
      "outputs": []
    },
    {
      "cell_type": "code",
      "source": [
        "df = df.limit(1000)\n"
      ],
      "metadata": {
        "id": "Ar4yDEEyREWc"
      },
      "id": "Ar4yDEEyREWc",
      "execution_count": null,
      "outputs": []
    },
    {
      "cell_type": "markdown",
      "source": [
        "Read the csv into spark and"
      ],
      "metadata": {
        "id": "SqmS4YIyPrkj"
      },
      "id": "SqmS4YIyPrkj"
    },
    {
      "cell_type": "markdown",
      "source": [],
      "metadata": {
        "id": "7_Fl_T9QPF6R"
      },
      "id": "7_Fl_T9QPF6R"
    }
  ],
  "metadata": {
    "colab": {
      "provenance": []
    },
    "language_info": {
      "name": "python"
    },
    "kernelspec": {
      "name": "python3",
      "display_name": "Python 3"
    }
  },
  "nbformat": 4,
  "nbformat_minor": 5
}